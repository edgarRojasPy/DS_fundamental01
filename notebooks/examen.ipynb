{
 "cells": [
  {
   "cell_type": "code",
   "execution_count": 1,
   "metadata": {},
   "outputs": [
    {
     "name": "stdout",
     "output_type": "stream",
     "text": [
      "<class 'pandas.core.frame.DataFrame'>\n",
      "RangeIndex: 64016 entries, 0 to 64015\n",
      "Data columns (total 14 columns):\n",
      " #   Column        Non-Null Count  Dtype  \n",
      "---  ------        --------------  -----  \n",
      " 0   img           64016 non-null  object \n",
      " 1   title         64016 non-null  object \n",
      " 2   console       64016 non-null  object \n",
      " 3   genre         64016 non-null  object \n",
      " 4   publisher     64016 non-null  object \n",
      " 5   developer     63999 non-null  object \n",
      " 6   critic_score  6678 non-null   float64\n",
      " 7   total_sales   18922 non-null  float64\n",
      " 8   na_sales      12637 non-null  float64\n",
      " 9   jp_sales      6726 non-null   float64\n",
      " 10  pal_sales     12824 non-null  float64\n",
      " 11  other_sales   15128 non-null  float64\n",
      " 12  release_date  56965 non-null  object \n",
      " 13  last_update   17879 non-null  object \n",
      "dtypes: float64(6), object(8)\n",
      "memory usage: 6.8+ MB\n"
     ]
    }
   ],
   "source": [
    "# Fe de erratas, mas abajo escribi que las columnas pal_sales y other_sales no estaban en el diccionario.\n",
    "# He visto que estaban filtrada no mas. SI ESTAN.\n",
    "# Profe, mis fuentes fueron tu videos para tenerl clara.\n",
    "# chatgpt para corregir mis codigos, estoy muy crudo en esta parte.\n",
    "# chatgpt para crear codigos en las visualizaciones, no me salian las que tomababa y ya se me pasa la hora.\n",
    "\n",
    "# Al menos se que estoy haciendo gracias a tus clases y videos: Porfa no lo tomes como una cepillada, es simplemente para dejar claro mis fuentes!\n",
    "import sys\n",
    "import os\n",
    "import pandas as pd\n",
    "import matplotlib.pyplot as plt\n",
    "\n",
    "\n",
    "# Agregar la carpeta 'src' al sys.path\n",
    "sys.path.append(os.path.abspath(\"../src\"))\n",
    "\n",
    "# Ahora puedes importar utils\n",
    "from utils import cargar_datos_pd\n",
    "from utils import ver_resumen_nulos\n",
    "\n",
    "\n",
    "# Invocar la función cargar_datos\n",
    "ruta_archivo = '../data/vgchartz-2024.csv'\n",
    "df_bruto = cargar_datos_pd(ruta_archivo)\n",
    "df_bruto.info()"
   ]
  },
  {
   "cell_type": "code",
   "execution_count": 2,
   "metadata": {},
   "outputs": [
    {
     "data": {
      "text/html": [
       "<div>\n",
       "<style scoped>\n",
       "    .dataframe tbody tr th:only-of-type {\n",
       "        vertical-align: middle;\n",
       "    }\n",
       "\n",
       "    .dataframe tbody tr th {\n",
       "        vertical-align: top;\n",
       "    }\n",
       "\n",
       "    .dataframe thead th {\n",
       "        text-align: right;\n",
       "    }\n",
       "</style>\n",
       "<table border=\"1\" class=\"dataframe\">\n",
       "  <thead>\n",
       "    <tr style=\"text-align: right;\">\n",
       "      <th></th>\n",
       "      <th>img</th>\n",
       "      <th>title</th>\n",
       "      <th>console</th>\n",
       "      <th>genre</th>\n",
       "      <th>publisher</th>\n",
       "      <th>developer</th>\n",
       "      <th>critic_score</th>\n",
       "      <th>total_sales</th>\n",
       "      <th>na_sales</th>\n",
       "      <th>jp_sales</th>\n",
       "      <th>pal_sales</th>\n",
       "      <th>other_sales</th>\n",
       "      <th>release_date</th>\n",
       "      <th>last_update</th>\n",
       "    </tr>\n",
       "  </thead>\n",
       "  <tbody>\n",
       "    <tr>\n",
       "      <th>0</th>\n",
       "      <td>/games/boxart/full_6510540AmericaFrontccc.jpg</td>\n",
       "      <td>Grand Theft Auto V</td>\n",
       "      <td>PS3</td>\n",
       "      <td>Action</td>\n",
       "      <td>Rockstar Games</td>\n",
       "      <td>Rockstar North</td>\n",
       "      <td>9.4</td>\n",
       "      <td>20.32</td>\n",
       "      <td>6.37</td>\n",
       "      <td>0.99</td>\n",
       "      <td>9.85</td>\n",
       "      <td>3.12</td>\n",
       "      <td>2013-09-17</td>\n",
       "      <td>NaN</td>\n",
       "    </tr>\n",
       "    <tr>\n",
       "      <th>1</th>\n",
       "      <td>/games/boxart/full_5563178AmericaFrontccc.jpg</td>\n",
       "      <td>Grand Theft Auto V</td>\n",
       "      <td>PS4</td>\n",
       "      <td>Action</td>\n",
       "      <td>Rockstar Games</td>\n",
       "      <td>Rockstar North</td>\n",
       "      <td>9.7</td>\n",
       "      <td>19.39</td>\n",
       "      <td>6.06</td>\n",
       "      <td>0.60</td>\n",
       "      <td>9.71</td>\n",
       "      <td>3.02</td>\n",
       "      <td>2014-11-18</td>\n",
       "      <td>2018-01-03</td>\n",
       "    </tr>\n",
       "    <tr>\n",
       "      <th>2</th>\n",
       "      <td>/games/boxart/827563ccc.jpg</td>\n",
       "      <td>Grand Theft Auto: Vice City</td>\n",
       "      <td>PS2</td>\n",
       "      <td>Action</td>\n",
       "      <td>Rockstar Games</td>\n",
       "      <td>Rockstar North</td>\n",
       "      <td>9.6</td>\n",
       "      <td>16.15</td>\n",
       "      <td>8.41</td>\n",
       "      <td>0.47</td>\n",
       "      <td>5.49</td>\n",
       "      <td>1.78</td>\n",
       "      <td>2002-10-28</td>\n",
       "      <td>NaN</td>\n",
       "    </tr>\n",
       "    <tr>\n",
       "      <th>3</th>\n",
       "      <td>/games/boxart/full_9218923AmericaFrontccc.jpg</td>\n",
       "      <td>Grand Theft Auto V</td>\n",
       "      <td>X360</td>\n",
       "      <td>Action</td>\n",
       "      <td>Rockstar Games</td>\n",
       "      <td>Rockstar North</td>\n",
       "      <td>NaN</td>\n",
       "      <td>15.86</td>\n",
       "      <td>9.06</td>\n",
       "      <td>0.06</td>\n",
       "      <td>5.33</td>\n",
       "      <td>1.42</td>\n",
       "      <td>2013-09-17</td>\n",
       "      <td>NaN</td>\n",
       "    </tr>\n",
       "    <tr>\n",
       "      <th>4</th>\n",
       "      <td>/games/boxart/full_4990510AmericaFrontccc.jpg</td>\n",
       "      <td>Call of Duty: Black Ops 3</td>\n",
       "      <td>PS4</td>\n",
       "      <td>Shooter</td>\n",
       "      <td>Activision</td>\n",
       "      <td>Treyarch</td>\n",
       "      <td>8.1</td>\n",
       "      <td>15.09</td>\n",
       "      <td>6.18</td>\n",
       "      <td>0.41</td>\n",
       "      <td>6.05</td>\n",
       "      <td>2.44</td>\n",
       "      <td>2015-11-06</td>\n",
       "      <td>2018-01-14</td>\n",
       "    </tr>\n",
       "  </tbody>\n",
       "</table>\n",
       "</div>"
      ],
      "text/plain": [
       "                                             img                        title  \\\n",
       "0  /games/boxart/full_6510540AmericaFrontccc.jpg           Grand Theft Auto V   \n",
       "1  /games/boxart/full_5563178AmericaFrontccc.jpg           Grand Theft Auto V   \n",
       "2                    /games/boxart/827563ccc.jpg  Grand Theft Auto: Vice City   \n",
       "3  /games/boxart/full_9218923AmericaFrontccc.jpg           Grand Theft Auto V   \n",
       "4  /games/boxart/full_4990510AmericaFrontccc.jpg    Call of Duty: Black Ops 3   \n",
       "\n",
       "  console    genre       publisher       developer  critic_score  total_sales  \\\n",
       "0     PS3   Action  Rockstar Games  Rockstar North           9.4        20.32   \n",
       "1     PS4   Action  Rockstar Games  Rockstar North           9.7        19.39   \n",
       "2     PS2   Action  Rockstar Games  Rockstar North           9.6        16.15   \n",
       "3    X360   Action  Rockstar Games  Rockstar North           NaN        15.86   \n",
       "4     PS4  Shooter      Activision        Treyarch           8.1        15.09   \n",
       "\n",
       "   na_sales  jp_sales  pal_sales  other_sales release_date last_update  \n",
       "0      6.37      0.99       9.85         3.12   2013-09-17         NaN  \n",
       "1      6.06      0.60       9.71         3.02   2014-11-18  2018-01-03  \n",
       "2      8.41      0.47       5.49         1.78   2002-10-28         NaN  \n",
       "3      9.06      0.06       5.33         1.42   2013-09-17         NaN  \n",
       "4      6.18      0.41       6.05         2.44   2015-11-06  2018-01-14  "
      ]
     },
     "execution_count": 2,
     "metadata": {},
     "output_type": "execute_result"
    }
   ],
   "source": [
    "df_bruto.head()"
   ]
  },
  {
   "cell_type": "code",
   "execution_count": 3,
   "metadata": {},
   "outputs": [
    {
     "name": "stdout",
     "output_type": "stream",
     "text": [
      "              datos sin NAs en q  Na en q  Na en %\n",
      "critic_score                6678    57338    89.57\n",
      "jp_sales                    6726    57290    89.49\n",
      "na_sales                   12637    51379    80.26\n",
      "pal_sales                  12824    51192    79.97\n",
      "other_sales                15128    48888    76.37\n",
      "last_update                17879    46137    72.07\n",
      "total_sales                18922    45094    70.44\n",
      "release_date               56965     7051    11.01\n",
      "developer                  63999       17     0.03\n",
      "publisher                  64016        0     0.00\n",
      "img                        64016        0     0.00\n",
      "genre                      64016        0     0.00\n",
      "console                    64016        0     0.00\n",
      "title                      64016        0     0.00\n"
     ]
    }
   ],
   "source": [
    "# Empezamos por datos nulos, veamos el resumen.\n",
    "print(ver_resumen_nulos(df_bruto))"
   ]
  },
  {
   "cell_type": "code",
   "execution_count": 4,
   "metadata": {},
   "outputs": [
    {
     "data": {
      "text/html": [
       "<div>\n",
       "<style scoped>\n",
       "    .dataframe tbody tr th:only-of-type {\n",
       "        vertical-align: middle;\n",
       "    }\n",
       "\n",
       "    .dataframe tbody tr th {\n",
       "        vertical-align: top;\n",
       "    }\n",
       "\n",
       "    .dataframe thead th {\n",
       "        text-align: right;\n",
       "    }\n",
       "</style>\n",
       "<table border=\"1\" class=\"dataframe\">\n",
       "  <thead>\n",
       "    <tr style=\"text-align: right;\">\n",
       "      <th></th>\n",
       "      <th>img</th>\n",
       "      <th>title</th>\n",
       "      <th>console</th>\n",
       "      <th>genre</th>\n",
       "      <th>publisher</th>\n",
       "      <th>developer</th>\n",
       "      <th>critic_score</th>\n",
       "      <th>total_sales</th>\n",
       "      <th>na_sales</th>\n",
       "      <th>jp_sales</th>\n",
       "      <th>pal_sales</th>\n",
       "      <th>other_sales</th>\n",
       "      <th>release_date</th>\n",
       "      <th>last_update</th>\n",
       "    </tr>\n",
       "  </thead>\n",
       "  <tbody>\n",
       "    <tr>\n",
       "      <th>36183</th>\n",
       "      <td>/games/boxart/default.jpg</td>\n",
       "      <td>MonsterCrafter</td>\n",
       "      <td>And</td>\n",
       "      <td>Misc</td>\n",
       "      <td>Naquatic LLC</td>\n",
       "      <td>Unknown</td>\n",
       "      <td>NaN</td>\n",
       "      <td>NaN</td>\n",
       "      <td>NaN</td>\n",
       "      <td>NaN</td>\n",
       "      <td>NaN</td>\n",
       "      <td>NaN</td>\n",
       "      <td>2013-12-04</td>\n",
       "      <td>NaN</td>\n",
       "    </tr>\n",
       "    <tr>\n",
       "      <th>36844</th>\n",
       "      <td>/games/boxart/default.jpg</td>\n",
       "      <td>Plants vs. Zombies</td>\n",
       "      <td>OSX</td>\n",
       "      <td>Misc</td>\n",
       "      <td>PopCap Games</td>\n",
       "      <td>Unknown</td>\n",
       "      <td>NaN</td>\n",
       "      <td>NaN</td>\n",
       "      <td>NaN</td>\n",
       "      <td>NaN</td>\n",
       "      <td>NaN</td>\n",
       "      <td>NaN</td>\n",
       "      <td>2009-05-05</td>\n",
       "      <td>NaN</td>\n",
       "    </tr>\n",
       "    <tr>\n",
       "      <th>39129</th>\n",
       "      <td>/games/boxart/default.jpg</td>\n",
       "      <td>Written Legends: Nightmare at Sea</td>\n",
       "      <td>OSX</td>\n",
       "      <td>Misc</td>\n",
       "      <td>Big Fish Games</td>\n",
       "      <td>Unknown</td>\n",
       "      <td>NaN</td>\n",
       "      <td>NaN</td>\n",
       "      <td>NaN</td>\n",
       "      <td>NaN</td>\n",
       "      <td>NaN</td>\n",
       "      <td>NaN</td>\n",
       "      <td>2013-02-04</td>\n",
       "      <td>NaN</td>\n",
       "    </tr>\n",
       "  </tbody>\n",
       "</table>\n",
       "</div>"
      ],
      "text/plain": [
       "                             img                              title console  \\\n",
       "36183  /games/boxart/default.jpg                     MonsterCrafter     And   \n",
       "36844  /games/boxart/default.jpg                 Plants vs. Zombies     OSX   \n",
       "39129  /games/boxart/default.jpg  Written Legends: Nightmare at Sea     OSX   \n",
       "\n",
       "      genre       publisher developer  critic_score  total_sales  na_sales  \\\n",
       "36183  Misc    Naquatic LLC   Unknown           NaN          NaN       NaN   \n",
       "36844  Misc    PopCap Games   Unknown           NaN          NaN       NaN   \n",
       "39129  Misc  Big Fish Games   Unknown           NaN          NaN       NaN   \n",
       "\n",
       "       jp_sales  pal_sales  other_sales release_date last_update  \n",
       "36183       NaN        NaN          NaN   2013-12-04         NaN  \n",
       "36844       NaN        NaN          NaN   2009-05-05         NaN  \n",
       "39129       NaN        NaN          NaN   2013-02-04         NaN  "
      ]
     },
     "execution_count": 4,
     "metadata": {},
     "output_type": "execute_result"
    }
   ],
   "source": [
    "#Detección y eliminación de valores duplicados: Son 3 nada mas. Originalmente RangeIndex: 64016 entries, 0 to 64015\n",
    "# Ver duplicados\n",
    "df_bruto[df_bruto.duplicated(subset=['img','title','console','genre','publisher','developer'])]"
   ]
  },
  {
   "cell_type": "code",
   "execution_count": 5,
   "metadata": {},
   "outputs": [],
   "source": [
    "# Eliminamos los duplicados. Defino las primeras columnas como registros unicos, incluyendo la imagen.\n",
    "(df_bruto[df_bruto.duplicated(subset=['img','title','console','genre','publisher','developer'])]).index# Referencia chatgpt para determinar columnas claves.\n",
    "# Obtengo los indices de los duplicados.\n",
    "idx_noduplicados = ((df_bruto[df_bruto.duplicated(subset=['img','title','console','genre','publisher','developer'])]).index)"
   ]
  },
  {
   "cell_type": "code",
   "execution_count": 6,
   "metadata": {},
   "outputs": [
    {
     "name": "stdout",
     "output_type": "stream",
     "text": [
      "Index([36183, 36844, 39129], dtype='int64')\n",
      "img             /games/boxart/default.jpg\n",
      "title                      MonsterCrafter\n",
      "console                               And\n",
      "genre                                Misc\n",
      "publisher                    Naquatic LLC\n",
      "developer                         Unknown\n",
      "critic_score                          NaN\n",
      "total_sales                           NaN\n",
      "na_sales                              NaN\n",
      "jp_sales                              NaN\n",
      "pal_sales                             NaN\n",
      "other_sales                           NaN\n",
      "release_date                   2013-12-04\n",
      "last_update                           NaN\n",
      "Name: 36183, dtype: object\n"
     ]
    }
   ],
   "source": [
    "\n",
    "print(idx_noduplicados)\n",
    "print(df_bruto.iloc[36183])\n",
    "# Creo un nuevo df sin dichos registros.\n",
    "df_sin_duplicados = df_bruto[(~(df_bruto.index.isin(idx_noduplicados)))]\n",
    "\n"
   ]
  },
  {
   "cell_type": "code",
   "execution_count": 7,
   "metadata": {},
   "outputs": [
    {
     "name": "stdout",
     "output_type": "stream",
     "text": [
      "<class 'pandas.core.frame.DataFrame'>\n",
      "Index: 64013 entries, 0 to 64015\n",
      "Data columns (total 14 columns):\n",
      " #   Column        Non-Null Count  Dtype  \n",
      "---  ------        --------------  -----  \n",
      " 0   img           64013 non-null  object \n",
      " 1   title         64013 non-null  object \n",
      " 2   console       64013 non-null  object \n",
      " 3   genre         64013 non-null  object \n",
      " 4   publisher     64013 non-null  object \n",
      " 5   developer     63996 non-null  object \n",
      " 6   critic_score  6678 non-null   float64\n",
      " 7   total_sales   18922 non-null  float64\n",
      " 8   na_sales      12637 non-null  float64\n",
      " 9   jp_sales      6726 non-null   float64\n",
      " 10  pal_sales     12824 non-null  float64\n",
      " 11  other_sales   15128 non-null  float64\n",
      " 12  release_date  56962 non-null  object \n",
      " 13  last_update   17879 non-null  object \n",
      "dtypes: float64(6), object(8)\n",
      "memory usage: 7.3+ MB\n"
     ]
    }
   ],
   "source": [
    "# Originalmente RangeIndex: 64016 entries, 0 to 64015. Se eliminaron 3 duplicados.\n",
    "df_sin_duplicados.info()"
   ]
  },
  {
   "cell_type": "code",
   "execution_count": null,
   "metadata": {},
   "outputs": [],
   "source": [
    "# Fin Detección y eliminación de valores duplicados"
   ]
  },
  {
   "cell_type": "code",
   "execution_count": null,
   "metadata": {},
   "outputs": [],
   "source": [
    "# NO VAMOS A ELIMINAR los registros con nulos pues dice Manejo de valores faltantes: Identifica y maneja cualquier valor faltante en el dataset. \n",
    "# Rellena los valores faltantes con un marcador adecuado para el tipo de dato.\n",
    "# en TODAS estas columnas PUES NO LAS USARE EN LAS ESTADISTICAS\n",
    "# Filtrar los registros que tienen valores nulos en las columnas 'critic_score', 'total_sales','na_sales','jp_sales','pal_sales','other_sales'\n",
    "#df_nulos = df_sin_duplicados[df_sin_duplicados[['critic_score', 'total_sales','na_sales','jp_sales','pal_sales','other_sales']].isnull().all(axis=1)]\n",
    "#df_nulos.info()"
   ]
  },
  {
   "cell_type": "code",
   "execution_count": null,
   "metadata": {},
   "outputs": [],
   "source": [
    "# Procedemos a eliminarlos\n",
    "#df_limpio = df_sin_duplicados[~df_sin_duplicados[['critic_score', 'total_sales','na_sales','jp_sales','pal_sales','other_sales']].isnull().all(axis=1)]\n",
    "#df_limpio.info()"
   ]
  },
  {
   "cell_type": "code",
   "execution_count": 16,
   "metadata": {},
   "outputs": [
    {
     "data": {
      "text/plain": [
       "<bound method Series.unique of 0               NaN\n",
       "1        2018-01-03\n",
       "2               NaN\n",
       "3               NaN\n",
       "4        2018-01-14\n",
       "            ...    \n",
       "64011    2019-01-28\n",
       "64012    2020-05-09\n",
       "64013    2020-05-09\n",
       "64014    2019-02-24\n",
       "64015    2023-09-29\n",
       "Name: last_update, Length: 64013, dtype: object>"
      ]
     },
     "execution_count": 16,
     "metadata": {},
     "output_type": "execute_result"
    }
   ],
   "source": [
    "# Vemos el resumen\n",
    "#ver_resumen_nulos(df_limpio)\n"
   ]
  },
  {
   "cell_type": "code",
   "execution_count": 13,
   "metadata": {},
   "outputs": [],
   "source": [
    "# Todos los datos faltantes vamos a poner cero a los numeros y una fecha principio de siglo.\n",
    "df_sin_duplicados.loc[df_sin_duplicados['critic_score'].isnull(), 'critic_score'] = 0\n",
    "df_sin_duplicados.loc[df_sin_duplicados['total_sales'].isnull(), 'total_sales'] = 0\n",
    "df_sin_duplicados.loc[df_sin_duplicados['na_sales'].isnull(), 'na_sales'] = 0\n",
    "df_sin_duplicados.loc[df_sin_duplicados['jp_sales'].isnull(), 'jp_sales'] = 0\n",
    "df_sin_duplicados.loc[df_sin_duplicados['pal_sales'].isnull(), 'pal_sales'] = 0\n",
    "df_sin_duplicados.loc[df_sin_duplicados['other_sales'].isnull(), 'other_sales'] = 0"
   ]
  },
  {
   "cell_type": "code",
   "execution_count": 14,
   "metadata": {},
   "outputs": [
    {
     "data": {
      "text/html": [
       "<div>\n",
       "<style scoped>\n",
       "    .dataframe tbody tr th:only-of-type {\n",
       "        vertical-align: middle;\n",
       "    }\n",
       "\n",
       "    .dataframe tbody tr th {\n",
       "        vertical-align: top;\n",
       "    }\n",
       "\n",
       "    .dataframe thead th {\n",
       "        text-align: right;\n",
       "    }\n",
       "</style>\n",
       "<table border=\"1\" class=\"dataframe\">\n",
       "  <thead>\n",
       "    <tr style=\"text-align: right;\">\n",
       "      <th></th>\n",
       "      <th>datos sin NAs en q</th>\n",
       "      <th>Na en q</th>\n",
       "      <th>Na en %</th>\n",
       "    </tr>\n",
       "  </thead>\n",
       "  <tbody>\n",
       "    <tr>\n",
       "      <th>last_update</th>\n",
       "      <td>17879</td>\n",
       "      <td>46134</td>\n",
       "      <td>72.07</td>\n",
       "    </tr>\n",
       "    <tr>\n",
       "      <th>release_date</th>\n",
       "      <td>56962</td>\n",
       "      <td>7051</td>\n",
       "      <td>11.01</td>\n",
       "    </tr>\n",
       "    <tr>\n",
       "      <th>developer</th>\n",
       "      <td>63996</td>\n",
       "      <td>17</td>\n",
       "      <td>0.03</td>\n",
       "    </tr>\n",
       "    <tr>\n",
       "      <th>console</th>\n",
       "      <td>64013</td>\n",
       "      <td>0</td>\n",
       "      <td>0.00</td>\n",
       "    </tr>\n",
       "    <tr>\n",
       "      <th>title</th>\n",
       "      <td>64013</td>\n",
       "      <td>0</td>\n",
       "      <td>0.00</td>\n",
       "    </tr>\n",
       "    <tr>\n",
       "      <th>img</th>\n",
       "      <td>64013</td>\n",
       "      <td>0</td>\n",
       "      <td>0.00</td>\n",
       "    </tr>\n",
       "    <tr>\n",
       "      <th>publisher</th>\n",
       "      <td>64013</td>\n",
       "      <td>0</td>\n",
       "      <td>0.00</td>\n",
       "    </tr>\n",
       "    <tr>\n",
       "      <th>genre</th>\n",
       "      <td>64013</td>\n",
       "      <td>0</td>\n",
       "      <td>0.00</td>\n",
       "    </tr>\n",
       "    <tr>\n",
       "      <th>critic_score</th>\n",
       "      <td>64013</td>\n",
       "      <td>0</td>\n",
       "      <td>0.00</td>\n",
       "    </tr>\n",
       "    <tr>\n",
       "      <th>total_sales</th>\n",
       "      <td>64013</td>\n",
       "      <td>0</td>\n",
       "      <td>0.00</td>\n",
       "    </tr>\n",
       "    <tr>\n",
       "      <th>jp_sales</th>\n",
       "      <td>64013</td>\n",
       "      <td>0</td>\n",
       "      <td>0.00</td>\n",
       "    </tr>\n",
       "    <tr>\n",
       "      <th>na_sales</th>\n",
       "      <td>64013</td>\n",
       "      <td>0</td>\n",
       "      <td>0.00</td>\n",
       "    </tr>\n",
       "    <tr>\n",
       "      <th>other_sales</th>\n",
       "      <td>64013</td>\n",
       "      <td>0</td>\n",
       "      <td>0.00</td>\n",
       "    </tr>\n",
       "    <tr>\n",
       "      <th>pal_sales</th>\n",
       "      <td>64013</td>\n",
       "      <td>0</td>\n",
       "      <td>0.00</td>\n",
       "    </tr>\n",
       "  </tbody>\n",
       "</table>\n",
       "</div>"
      ],
      "text/plain": [
       "              datos sin NAs en q  Na en q  Na en %\n",
       "last_update                17879    46134    72.07\n",
       "release_date               56962     7051    11.01\n",
       "developer                  63996       17     0.03\n",
       "console                    64013        0     0.00\n",
       "title                      64013        0     0.00\n",
       "img                        64013        0     0.00\n",
       "publisher                  64013        0     0.00\n",
       "genre                      64013        0     0.00\n",
       "critic_score               64013        0     0.00\n",
       "total_sales                64013        0     0.00\n",
       "jp_sales                   64013        0     0.00\n",
       "na_sales                   64013        0     0.00\n",
       "other_sales                64013        0     0.00\n",
       "pal_sales                  64013        0     0.00"
      ]
     },
     "execution_count": 14,
     "metadata": {},
     "output_type": "execute_result"
    }
   ],
   "source": [
    "ver_resumen_nulos(df_sin_duplicados)"
   ]
  },
  {
   "cell_type": "code",
   "execution_count": 17,
   "metadata": {},
   "outputs": [
    {
     "data": {
      "text/plain": [
       "<bound method Series.unique of 0               NaN\n",
       "1        2018-01-03\n",
       "2               NaN\n",
       "3               NaN\n",
       "4        2018-01-14\n",
       "            ...    \n",
       "64011    2019-01-28\n",
       "64012    2020-05-09\n",
       "64013    2020-05-09\n",
       "64014    2019-02-24\n",
       "64015    2023-09-29\n",
       "Name: last_update, Length: 64013, dtype: object>"
      ]
     },
     "execution_count": 17,
     "metadata": {},
     "output_type": "execute_result"
    }
   ],
   "source": [
    "# Las fechas, para tener el formato de principiode siglo. No voy a extrapolar con un dato de estos.\n",
    "df_sin_duplicados['last_update'].unique"
   ]
  },
  {
   "cell_type": "code",
   "execution_count": 18,
   "metadata": {},
   "outputs": [],
   "source": [
    "#Asignamos principio de siglo.\n",
    "df_sin_duplicados.loc[df_sin_duplicados['last_update'].isnull(), 'last_update'] = '1900-01-01'"
   ]
  },
  {
   "cell_type": "code",
   "execution_count": 19,
   "metadata": {},
   "outputs": [
    {
     "data": {
      "text/html": [
       "<div>\n",
       "<style scoped>\n",
       "    .dataframe tbody tr th:only-of-type {\n",
       "        vertical-align: middle;\n",
       "    }\n",
       "\n",
       "    .dataframe tbody tr th {\n",
       "        vertical-align: top;\n",
       "    }\n",
       "\n",
       "    .dataframe thead th {\n",
       "        text-align: right;\n",
       "    }\n",
       "</style>\n",
       "<table border=\"1\" class=\"dataframe\">\n",
       "  <thead>\n",
       "    <tr style=\"text-align: right;\">\n",
       "      <th></th>\n",
       "      <th>datos sin NAs en q</th>\n",
       "      <th>Na en q</th>\n",
       "      <th>Na en %</th>\n",
       "    </tr>\n",
       "  </thead>\n",
       "  <tbody>\n",
       "    <tr>\n",
       "      <th>release_date</th>\n",
       "      <td>56962</td>\n",
       "      <td>7051</td>\n",
       "      <td>11.01</td>\n",
       "    </tr>\n",
       "    <tr>\n",
       "      <th>developer</th>\n",
       "      <td>63996</td>\n",
       "      <td>17</td>\n",
       "      <td>0.03</td>\n",
       "    </tr>\n",
       "    <tr>\n",
       "      <th>title</th>\n",
       "      <td>64013</td>\n",
       "      <td>0</td>\n",
       "      <td>0.00</td>\n",
       "    </tr>\n",
       "    <tr>\n",
       "      <th>console</th>\n",
       "      <td>64013</td>\n",
       "      <td>0</td>\n",
       "      <td>0.00</td>\n",
       "    </tr>\n",
       "    <tr>\n",
       "      <th>genre</th>\n",
       "      <td>64013</td>\n",
       "      <td>0</td>\n",
       "      <td>0.00</td>\n",
       "    </tr>\n",
       "    <tr>\n",
       "      <th>img</th>\n",
       "      <td>64013</td>\n",
       "      <td>0</td>\n",
       "      <td>0.00</td>\n",
       "    </tr>\n",
       "    <tr>\n",
       "      <th>publisher</th>\n",
       "      <td>64013</td>\n",
       "      <td>0</td>\n",
       "      <td>0.00</td>\n",
       "    </tr>\n",
       "    <tr>\n",
       "      <th>critic_score</th>\n",
       "      <td>64013</td>\n",
       "      <td>0</td>\n",
       "      <td>0.00</td>\n",
       "    </tr>\n",
       "    <tr>\n",
       "      <th>na_sales</th>\n",
       "      <td>64013</td>\n",
       "      <td>0</td>\n",
       "      <td>0.00</td>\n",
       "    </tr>\n",
       "    <tr>\n",
       "      <th>total_sales</th>\n",
       "      <td>64013</td>\n",
       "      <td>0</td>\n",
       "      <td>0.00</td>\n",
       "    </tr>\n",
       "    <tr>\n",
       "      <th>jp_sales</th>\n",
       "      <td>64013</td>\n",
       "      <td>0</td>\n",
       "      <td>0.00</td>\n",
       "    </tr>\n",
       "    <tr>\n",
       "      <th>pal_sales</th>\n",
       "      <td>64013</td>\n",
       "      <td>0</td>\n",
       "      <td>0.00</td>\n",
       "    </tr>\n",
       "    <tr>\n",
       "      <th>other_sales</th>\n",
       "      <td>64013</td>\n",
       "      <td>0</td>\n",
       "      <td>0.00</td>\n",
       "    </tr>\n",
       "    <tr>\n",
       "      <th>last_update</th>\n",
       "      <td>64013</td>\n",
       "      <td>0</td>\n",
       "      <td>0.00</td>\n",
       "    </tr>\n",
       "  </tbody>\n",
       "</table>\n",
       "</div>"
      ],
      "text/plain": [
       "              datos sin NAs en q  Na en q  Na en %\n",
       "release_date               56962     7051    11.01\n",
       "developer                  63996       17     0.03\n",
       "title                      64013        0     0.00\n",
       "console                    64013        0     0.00\n",
       "genre                      64013        0     0.00\n",
       "img                        64013        0     0.00\n",
       "publisher                  64013        0     0.00\n",
       "critic_score               64013        0     0.00\n",
       "na_sales                   64013        0     0.00\n",
       "total_sales                64013        0     0.00\n",
       "jp_sales                   64013        0     0.00\n",
       "pal_sales                  64013        0     0.00\n",
       "other_sales                64013        0     0.00\n",
       "last_update                64013        0     0.00"
      ]
     },
     "execution_count": 19,
     "metadata": {},
     "output_type": "execute_result"
    }
   ],
   "source": [
    "ver_resumen_nulos(df_sin_duplicados)"
   ]
  },
  {
   "cell_type": "code",
   "execution_count": 20,
   "metadata": {},
   "outputs": [
    {
     "data": {
      "text/plain": [
       "<bound method Series.unique of 0        2013-09-17\n",
       "1        2014-11-18\n",
       "2        2002-10-28\n",
       "3        2013-09-17\n",
       "4        2015-11-06\n",
       "            ...    \n",
       "64011    2016-08-11\n",
       "64012    2020-07-30\n",
       "64013    2020-07-30\n",
       "64014    2019-02-28\n",
       "64015           NaN\n",
       "Name: release_date, Length: 64013, dtype: object>"
      ]
     },
     "execution_count": 20,
     "metadata": {},
     "output_type": "execute_result"
    }
   ],
   "source": [
    "# Las fechas, para tener el formato de principiode siglo. No voy a extrapolar con un dato de estos.\n",
    "df_sin_duplicados['release_date'].unique"
   ]
  },
  {
   "cell_type": "code",
   "execution_count": 21,
   "metadata": {},
   "outputs": [],
   "source": [
    "#Asignamos principio de siglo.\n",
    "df_sin_duplicados.loc[df_sin_duplicados['release_date'].isnull(), 'release_date'] = '1900-01-01'"
   ]
  },
  {
   "cell_type": "code",
   "execution_count": 22,
   "metadata": {},
   "outputs": [
    {
     "data": {
      "text/html": [
       "<div>\n",
       "<style scoped>\n",
       "    .dataframe tbody tr th:only-of-type {\n",
       "        vertical-align: middle;\n",
       "    }\n",
       "\n",
       "    .dataframe tbody tr th {\n",
       "        vertical-align: top;\n",
       "    }\n",
       "\n",
       "    .dataframe thead th {\n",
       "        text-align: right;\n",
       "    }\n",
       "</style>\n",
       "<table border=\"1\" class=\"dataframe\">\n",
       "  <thead>\n",
       "    <tr style=\"text-align: right;\">\n",
       "      <th></th>\n",
       "      <th>datos sin NAs en q</th>\n",
       "      <th>Na en q</th>\n",
       "      <th>Na en %</th>\n",
       "    </tr>\n",
       "  </thead>\n",
       "  <tbody>\n",
       "    <tr>\n",
       "      <th>developer</th>\n",
       "      <td>63996</td>\n",
       "      <td>17</td>\n",
       "      <td>0.03</td>\n",
       "    </tr>\n",
       "    <tr>\n",
       "      <th>img</th>\n",
       "      <td>64013</td>\n",
       "      <td>0</td>\n",
       "      <td>0.00</td>\n",
       "    </tr>\n",
       "    <tr>\n",
       "      <th>title</th>\n",
       "      <td>64013</td>\n",
       "      <td>0</td>\n",
       "      <td>0.00</td>\n",
       "    </tr>\n",
       "    <tr>\n",
       "      <th>console</th>\n",
       "      <td>64013</td>\n",
       "      <td>0</td>\n",
       "      <td>0.00</td>\n",
       "    </tr>\n",
       "    <tr>\n",
       "      <th>genre</th>\n",
       "      <td>64013</td>\n",
       "      <td>0</td>\n",
       "      <td>0.00</td>\n",
       "    </tr>\n",
       "    <tr>\n",
       "      <th>publisher</th>\n",
       "      <td>64013</td>\n",
       "      <td>0</td>\n",
       "      <td>0.00</td>\n",
       "    </tr>\n",
       "    <tr>\n",
       "      <th>critic_score</th>\n",
       "      <td>64013</td>\n",
       "      <td>0</td>\n",
       "      <td>0.00</td>\n",
       "    </tr>\n",
       "    <tr>\n",
       "      <th>total_sales</th>\n",
       "      <td>64013</td>\n",
       "      <td>0</td>\n",
       "      <td>0.00</td>\n",
       "    </tr>\n",
       "    <tr>\n",
       "      <th>na_sales</th>\n",
       "      <td>64013</td>\n",
       "      <td>0</td>\n",
       "      <td>0.00</td>\n",
       "    </tr>\n",
       "    <tr>\n",
       "      <th>jp_sales</th>\n",
       "      <td>64013</td>\n",
       "      <td>0</td>\n",
       "      <td>0.00</td>\n",
       "    </tr>\n",
       "    <tr>\n",
       "      <th>pal_sales</th>\n",
       "      <td>64013</td>\n",
       "      <td>0</td>\n",
       "      <td>0.00</td>\n",
       "    </tr>\n",
       "    <tr>\n",
       "      <th>other_sales</th>\n",
       "      <td>64013</td>\n",
       "      <td>0</td>\n",
       "      <td>0.00</td>\n",
       "    </tr>\n",
       "    <tr>\n",
       "      <th>release_date</th>\n",
       "      <td>64013</td>\n",
       "      <td>0</td>\n",
       "      <td>0.00</td>\n",
       "    </tr>\n",
       "    <tr>\n",
       "      <th>last_update</th>\n",
       "      <td>64013</td>\n",
       "      <td>0</td>\n",
       "      <td>0.00</td>\n",
       "    </tr>\n",
       "  </tbody>\n",
       "</table>\n",
       "</div>"
      ],
      "text/plain": [
       "              datos sin NAs en q  Na en q  Na en %\n",
       "developer                  63996       17     0.03\n",
       "img                        64013        0     0.00\n",
       "title                      64013        0     0.00\n",
       "console                    64013        0     0.00\n",
       "genre                      64013        0     0.00\n",
       "publisher                  64013        0     0.00\n",
       "critic_score               64013        0     0.00\n",
       "total_sales                64013        0     0.00\n",
       "na_sales                   64013        0     0.00\n",
       "jp_sales                   64013        0     0.00\n",
       "pal_sales                  64013        0     0.00\n",
       "other_sales                64013        0     0.00\n",
       "release_date               64013        0     0.00\n",
       "last_update                64013        0     0.00"
      ]
     },
     "execution_count": 22,
     "metadata": {},
     "output_type": "execute_result"
    }
   ],
   "source": [
    "ver_resumen_nulos(df_sin_duplicados)"
   ]
  },
  {
   "cell_type": "code",
   "execution_count": 23,
   "metadata": {},
   "outputs": [
    {
     "data": {
      "text/plain": [
       "<bound method Series.unique of 0              Rockstar North\n",
       "1              Rockstar North\n",
       "2              Rockstar North\n",
       "3              Rockstar North\n",
       "4                    Treyarch\n",
       "                 ...         \n",
       "64011        Arc System Works\n",
       "64012    Nippon Ichi Software\n",
       "64013    Nippon Ichi Software\n",
       "64014                 Otomate\n",
       "64015              G.rev Ltd.\n",
       "Name: developer, Length: 64013, dtype: object>"
      ]
     },
     "execution_count": 23,
     "metadata": {},
     "output_type": "execute_result"
    }
   ],
   "source": [
    "# Developer\n",
    "df_sin_duplicados['developer'].unique\n"
   ]
  },
  {
   "cell_type": "code",
   "execution_count": 24,
   "metadata": {},
   "outputs": [],
   "source": [
    "df_sin_duplicados.loc[df_sin_duplicados['developer'].isnull(), 'developer'] = 'no developer'"
   ]
  },
  {
   "cell_type": "code",
   "execution_count": 25,
   "metadata": {},
   "outputs": [
    {
     "data": {
      "text/html": [
       "<div>\n",
       "<style scoped>\n",
       "    .dataframe tbody tr th:only-of-type {\n",
       "        vertical-align: middle;\n",
       "    }\n",
       "\n",
       "    .dataframe tbody tr th {\n",
       "        vertical-align: top;\n",
       "    }\n",
       "\n",
       "    .dataframe thead th {\n",
       "        text-align: right;\n",
       "    }\n",
       "</style>\n",
       "<table border=\"1\" class=\"dataframe\">\n",
       "  <thead>\n",
       "    <tr style=\"text-align: right;\">\n",
       "      <th></th>\n",
       "      <th>datos sin NAs en q</th>\n",
       "      <th>Na en q</th>\n",
       "      <th>Na en %</th>\n",
       "    </tr>\n",
       "  </thead>\n",
       "  <tbody>\n",
       "    <tr>\n",
       "      <th>img</th>\n",
       "      <td>64013</td>\n",
       "      <td>0</td>\n",
       "      <td>0.0</td>\n",
       "    </tr>\n",
       "    <tr>\n",
       "      <th>title</th>\n",
       "      <td>64013</td>\n",
       "      <td>0</td>\n",
       "      <td>0.0</td>\n",
       "    </tr>\n",
       "    <tr>\n",
       "      <th>console</th>\n",
       "      <td>64013</td>\n",
       "      <td>0</td>\n",
       "      <td>0.0</td>\n",
       "    </tr>\n",
       "    <tr>\n",
       "      <th>genre</th>\n",
       "      <td>64013</td>\n",
       "      <td>0</td>\n",
       "      <td>0.0</td>\n",
       "    </tr>\n",
       "    <tr>\n",
       "      <th>publisher</th>\n",
       "      <td>64013</td>\n",
       "      <td>0</td>\n",
       "      <td>0.0</td>\n",
       "    </tr>\n",
       "    <tr>\n",
       "      <th>developer</th>\n",
       "      <td>64013</td>\n",
       "      <td>0</td>\n",
       "      <td>0.0</td>\n",
       "    </tr>\n",
       "    <tr>\n",
       "      <th>critic_score</th>\n",
       "      <td>64013</td>\n",
       "      <td>0</td>\n",
       "      <td>0.0</td>\n",
       "    </tr>\n",
       "    <tr>\n",
       "      <th>total_sales</th>\n",
       "      <td>64013</td>\n",
       "      <td>0</td>\n",
       "      <td>0.0</td>\n",
       "    </tr>\n",
       "    <tr>\n",
       "      <th>na_sales</th>\n",
       "      <td>64013</td>\n",
       "      <td>0</td>\n",
       "      <td>0.0</td>\n",
       "    </tr>\n",
       "    <tr>\n",
       "      <th>jp_sales</th>\n",
       "      <td>64013</td>\n",
       "      <td>0</td>\n",
       "      <td>0.0</td>\n",
       "    </tr>\n",
       "    <tr>\n",
       "      <th>pal_sales</th>\n",
       "      <td>64013</td>\n",
       "      <td>0</td>\n",
       "      <td>0.0</td>\n",
       "    </tr>\n",
       "    <tr>\n",
       "      <th>other_sales</th>\n",
       "      <td>64013</td>\n",
       "      <td>0</td>\n",
       "      <td>0.0</td>\n",
       "    </tr>\n",
       "    <tr>\n",
       "      <th>release_date</th>\n",
       "      <td>64013</td>\n",
       "      <td>0</td>\n",
       "      <td>0.0</td>\n",
       "    </tr>\n",
       "    <tr>\n",
       "      <th>last_update</th>\n",
       "      <td>64013</td>\n",
       "      <td>0</td>\n",
       "      <td>0.0</td>\n",
       "    </tr>\n",
       "  </tbody>\n",
       "</table>\n",
       "</div>"
      ],
      "text/plain": [
       "              datos sin NAs en q  Na en q  Na en %\n",
       "img                        64013        0      0.0\n",
       "title                      64013        0      0.0\n",
       "console                    64013        0      0.0\n",
       "genre                      64013        0      0.0\n",
       "publisher                  64013        0      0.0\n",
       "developer                  64013        0      0.0\n",
       "critic_score               64013        0      0.0\n",
       "total_sales                64013        0      0.0\n",
       "na_sales                   64013        0      0.0\n",
       "jp_sales                   64013        0      0.0\n",
       "pal_sales                  64013        0      0.0\n",
       "other_sales                64013        0      0.0\n",
       "release_date               64013        0      0.0\n",
       "last_update                64013        0      0.0"
      ]
     },
     "execution_count": 25,
     "metadata": {},
     "output_type": "execute_result"
    }
   ],
   "source": [
    "ver_resumen_nulos(df_sin_duplicados)"
   ]
  },
  {
   "cell_type": "code",
   "execution_count": 26,
   "metadata": {},
   "outputs": [
    {
     "name": "stdout",
     "output_type": "stream",
     "text": [
      "minimo critic_score: 0.0\n",
      "minimo total_sales: 0.0\n",
      "minimo na_sales: 0.0\n",
      "minimo jp_sales: 0.0\n",
      "minimo pal_sales: 0.0\n",
      "minimo other_sales: 0.0\n"
     ]
    }
   ],
   "source": [
    "# Detección de datos anómalos: Identifica y corrige cualquier punto de dato inapropiado o inusual (por ejemplo, un videojuego con ventas negativas).\n",
    "print('minimo critic_score:',df_sin_duplicados['critic_score'].min())\n",
    "print('minimo total_sales:',df_sin_duplicados['total_sales'].min())\n",
    "print('minimo na_sales:',df_sin_duplicados['na_sales'].min())\n",
    "print('minimo jp_sales:',df_sin_duplicados['jp_sales'].min())\n",
    "print('minimo pal_sales:',df_sin_duplicados['pal_sales'].min())\n",
    "print('minimo other_sales:',df_sin_duplicados['other_sales'].min())"
   ]
  },
  {
   "cell_type": "code",
   "execution_count": 27,
   "metadata": {},
   "outputs": [
    {
     "name": "stdout",
     "output_type": "stream",
     "text": [
      "Todos los valores de la columna critic_score  son convertibles a float.\n"
     ]
    }
   ],
   "source": [
    "\n",
    "\n",
    "#Verificación y ajuste de tipos de datos.\n",
    "# Aqui solo me interesan verificar los datos numericos.\n",
    "\"\"\" \n",
    "critic_score float rango 1-10\n",
    "\"\"\"\n",
    "# creamos un df_tipo_dato\n",
    "df_tipo_dato = df_sin_duplicados.copy()\n",
    "#Empezamos a controlar las columnas.\n",
    "columna =  \"critic_score\"\n",
    "columna_check = f'{columna}_chk'\n",
    "\n",
    "def controlar():\n",
    "    # Chatgpt. Yo lo adapte a mi parecer.\n",
    "    # Intentar convertir la columna a float\n",
    "    df_tipo_dato[columna_check] = pd.to_numeric(df_tipo_dato[columna], errors='coerce')\n",
    "    # Verificar si hay valores que no pudieron ser convertidos a float (NaN)\n",
    "    no_float_values = df_tipo_dato[df_tipo_dato[columna_check].isnull()]\n",
    "    if not no_float_values.empty:\n",
    "        print(f\"La columna {columna} contiene valores que no son de tipo float:\")\n",
    "        print(no_float_values[columna])\n",
    "    else:\n",
    "        print(f\"Todos los valores de la columna {columna}  son convertibles a float.\")\n",
    "\n",
    "#Empezamos con la columna critic_score\n",
    "columna =  \"critic_score\"\n",
    "columna_check = f'{columna}_chk'\n",
    "controlar()"
   ]
  },
  {
   "cell_type": "code",
   "execution_count": 28,
   "metadata": {},
   "outputs": [
    {
     "name": "stdout",
     "output_type": "stream",
     "text": [
      "Todos los valores de la columna total_sales  son convertibles a float.\n"
     ]
    }
   ],
   "source": [
    "#Continuamos con la columna total_sales\n",
    "columna =  \"total_sales\"\n",
    "columna_check = f'{columna}_chk'\n",
    "controlar()"
   ]
  },
  {
   "cell_type": "code",
   "execution_count": 29,
   "metadata": {},
   "outputs": [
    {
     "name": "stdout",
     "output_type": "stream",
     "text": [
      "Todos los valores de la columna na_sales  son convertibles a float.\n"
     ]
    }
   ],
   "source": [
    "#Continuamos con la columna na_sales\n",
    "columna =  \"na_sales\"\n",
    "columna_check = f'{columna}_chk'\n",
    "controlar()"
   ]
  },
  {
   "cell_type": "code",
   "execution_count": 30,
   "metadata": {},
   "outputs": [
    {
     "name": "stdout",
     "output_type": "stream",
     "text": [
      "Todos los valores de la columna jp_sales  son convertibles a float.\n"
     ]
    }
   ],
   "source": [
    "#Continuamos con la columna jp_sales\n",
    "columna =  \"jp_sales\"\n",
    "columna_check = f'{columna}_chk'\n",
    "controlar()"
   ]
  },
  {
   "cell_type": "code",
   "execution_count": 31,
   "metadata": {},
   "outputs": [
    {
     "name": "stdout",
     "output_type": "stream",
     "text": [
      "Todos los valores de la columna pal_sales  son convertibles a float.\n"
     ]
    }
   ],
   "source": [
    "#Continuamos con la columna pal_sales. Este no está en el diccionario de datos!\n",
    "columna =  \"pal_sales\"\n",
    "columna_check = f'{columna}_chk'\n",
    "controlar()"
   ]
  },
  {
   "cell_type": "code",
   "execution_count": 32,
   "metadata": {},
   "outputs": [
    {
     "name": "stdout",
     "output_type": "stream",
     "text": [
      "Todos los valores de la columna other_sales  son convertibles a float.\n"
     ]
    }
   ],
   "source": [
    "#Continuamos con la columna other_sales. Este tampoco está en el diccionario de datos!\n",
    "columna =  \"other_sales\"\n",
    "columna_check = f'{columna}_chk'\n",
    "controlar()"
   ]
  },
  {
   "cell_type": "code",
   "execution_count": 33,
   "metadata": {},
   "outputs": [
    {
     "data": {
      "text/plain": [
       "<bound method Series.unique of 0        9.4\n",
       "1        9.7\n",
       "2        9.6\n",
       "3        0.0\n",
       "4        8.1\n",
       "        ... \n",
       "64011    0.0\n",
       "64012    0.0\n",
       "64013    0.0\n",
       "64014    0.0\n",
       "64015    0.0\n",
       "Name: critic_score, Length: 64013, dtype: float64>"
      ]
     },
     "execution_count": 33,
     "metadata": {},
     "output_type": "execute_result"
    }
   ],
   "source": [
    "# Me llama la atencion que sea float, pues yo normalmente veo que es de 1 al 10 enteros.\n",
    "# Pero el diccionario detalla que es float y no dice mas nada al respecto por lo que dejo asi no mas.\n",
    "# Aunque estoy tentado a truncarlo, pero no tengo un elemento que me valide eso. Me falta mas contexto Y TIEMPO!\n",
    "df_sin_duplicados['critic_score'].unique"
   ]
  },
  {
   "cell_type": "code",
   "execution_count": null,
   "metadata": {},
   "outputs": [],
   "source": [
    "# De acuerdo a datos faltantes, en este punto ya no es necesario aplicar esto, pero lo dejo igual como control cuando tenia valores nulos.\n",
    "# Pues la funcion controlar() registraba una nueva columna para ver cuales no podian convertirse a float.\n",
    "# Como todas las numericas pasaron bien despues de asignarle cero, no hace falta esto.\n",
    "# Ver que dato numerico puedo usar para poblar este dato. NO SE PUEDE  pero puedo marcar para ignorarlo en cuanto a evaluación del juego.\n",
    "#print(df_tipo_dato['critic_score'].min())\n",
    "#print(df_tipo_dato['critic_score'].max())\n",
    "# Como el rango es de 1-10, lo dejo en cero.\n",
    "#df_tipo_dato['critic_score'].fillna(0)\n",
    "#df_tipo_dato['critic_score'] = df_tipo_dato['critic_score'].fillna(0)\n",
    "#Eliminamos\n",
    "#del df_tipo_dato['critic_score_chk']"
   ]
  },
  {
   "cell_type": "code",
   "execution_count": null,
   "metadata": {},
   "outputs": [],
   "source": [
    "# FIN Verificación y ajuste de tipos de datos."
   ]
  },
  {
   "cell_type": "code",
   "execution_count": 35,
   "metadata": {},
   "outputs": [
    {
     "name": "stdout",
     "output_type": "stream",
     "text": [
      "              datos sin NAs en q  Na en q  Na en %\n",
      "img                        64013        0      0.0\n",
      "title                      64013        0      0.0\n",
      "console                    64013        0      0.0\n",
      "genre                      64013        0      0.0\n",
      "publisher                  64013        0      0.0\n",
      "developer                  64013        0      0.0\n",
      "critic_score               64013        0      0.0\n",
      "total_sales                64013        0      0.0\n",
      "na_sales                   64013        0      0.0\n",
      "jp_sales                   64013        0      0.0\n",
      "pal_sales                  64013        0      0.0\n",
      "other_sales                64013        0      0.0\n",
      "release_date               64013        0      0.0\n",
      "last_update                64013        0      0.0\n"
     ]
    }
   ],
   "source": [
    "# Veamos el resumen. Se corrigio critic_score y se elimino el auxiliar critic_score_chk\n",
    "print(ver_resumen_nulos(df_sin_duplicados))"
   ]
  },
  {
   "cell_type": "code",
   "execution_count": 36,
   "metadata": {},
   "outputs": [],
   "source": [
    "# Ya tenemos limpio el dataframe.\n",
    "df = df_sin_duplicados.copy()"
   ]
  },
  {
   "cell_type": "code",
   "execution_count": 37,
   "metadata": {},
   "outputs": [
    {
     "name": "stdout",
     "output_type": "stream",
     "text": [
      "Index(['img', 'title', 'console', 'genre', 'publisher', 'developer',\n",
      "       'critic_score', 'total_sales', 'na_sales', 'jp_sales', 'pal_sales',\n",
      "       'other_sales', 'release_date', 'last_update'],\n",
      "      dtype='object')\n"
     ]
    }
   ],
   "source": [
    "print(df.columns)"
   ]
  },
  {
   "cell_type": "code",
   "execution_count": 47,
   "metadata": {},
   "outputs": [
    {
     "ename": "TypeError",
     "evalue": "unhashable type: 'numpy.ndarray'",
     "output_type": "error",
     "traceback": [
      "\u001b[1;31m---------------------------------------------------------------------------\u001b[0m",
      "\u001b[1;31mTypeError\u001b[0m                                 Traceback (most recent call last)",
      "Cell \u001b[1;32mIn[47], line 18\u001b[0m\n\u001b[0;32m     16\u001b[0m \u001b[38;5;66;03m# Crear el gráfico de barras\u001b[39;00m\n\u001b[0;32m     17\u001b[0m plt\u001b[38;5;241m.\u001b[39mfigure(figsize\u001b[38;5;241m=\u001b[39m(\u001b[38;5;241m10\u001b[39m, \u001b[38;5;241m6\u001b[39m))  \u001b[38;5;66;03m# Ajustar el tamaño de la figura\u001b[39;00m\n\u001b[1;32m---> 18\u001b[0m \u001b[43mplt\u001b[49m\u001b[38;5;241;43m.\u001b[39;49m\u001b[43mbar\u001b[49m\u001b[43m(\u001b[49m\u001b[43mx\u001b[49m\u001b[43m,\u001b[49m\u001b[43m \u001b[49m\u001b[43mresumen_filtrado\u001b[49m\u001b[43m)\u001b[49m\n\u001b[0;32m     19\u001b[0m plt\u001b[38;5;241m.\u001b[39mtitle(\u001b[38;5;124m\"\u001b[39m\u001b[38;5;124mGráfico de ventas globales para cada consola\u001b[39m\u001b[38;5;124m\"\u001b[39m)\n\u001b[0;32m     20\u001b[0m plt\u001b[38;5;241m.\u001b[39mxlabel(\u001b[38;5;124m\"\u001b[39m\u001b[38;5;124mConsolas\u001b[39m\u001b[38;5;124m\"\u001b[39m)\n",
      "File \u001b[1;32m~\\AppData\\Roaming\\Python\\Python313\\site-packages\\matplotlib\\pyplot.py:2956\u001b[0m, in \u001b[0;36mbar\u001b[1;34m(x, height, width, bottom, align, data, **kwargs)\u001b[0m\n\u001b[0;32m   2945\u001b[0m \u001b[38;5;129m@_copy_docstring_and_deprecators\u001b[39m(Axes\u001b[38;5;241m.\u001b[39mbar)\n\u001b[0;32m   2946\u001b[0m \u001b[38;5;28;01mdef\u001b[39;00m \u001b[38;5;21mbar\u001b[39m(\n\u001b[0;32m   2947\u001b[0m     x: \u001b[38;5;28mfloat\u001b[39m \u001b[38;5;241m|\u001b[39m ArrayLike,\n\u001b[1;32m   (...)\u001b[0m\n\u001b[0;32m   2954\u001b[0m     \u001b[38;5;241m*\u001b[39m\u001b[38;5;241m*\u001b[39mkwargs,\n\u001b[0;32m   2955\u001b[0m ) \u001b[38;5;241m-\u001b[39m\u001b[38;5;241m>\u001b[39m BarContainer:\n\u001b[1;32m-> 2956\u001b[0m     \u001b[38;5;28;01mreturn\u001b[39;00m \u001b[43mgca\u001b[49m\u001b[43m(\u001b[49m\u001b[43m)\u001b[49m\u001b[38;5;241;43m.\u001b[39;49m\u001b[43mbar\u001b[49m\u001b[43m(\u001b[49m\n\u001b[0;32m   2957\u001b[0m \u001b[43m        \u001b[49m\u001b[43mx\u001b[49m\u001b[43m,\u001b[49m\n\u001b[0;32m   2958\u001b[0m \u001b[43m        \u001b[49m\u001b[43mheight\u001b[49m\u001b[43m,\u001b[49m\n\u001b[0;32m   2959\u001b[0m \u001b[43m        \u001b[49m\u001b[43mwidth\u001b[49m\u001b[38;5;241;43m=\u001b[39;49m\u001b[43mwidth\u001b[49m\u001b[43m,\u001b[49m\n\u001b[0;32m   2960\u001b[0m \u001b[43m        \u001b[49m\u001b[43mbottom\u001b[49m\u001b[38;5;241;43m=\u001b[39;49m\u001b[43mbottom\u001b[49m\u001b[43m,\u001b[49m\n\u001b[0;32m   2961\u001b[0m \u001b[43m        \u001b[49m\u001b[43malign\u001b[49m\u001b[38;5;241;43m=\u001b[39;49m\u001b[43malign\u001b[49m\u001b[43m,\u001b[49m\n\u001b[0;32m   2962\u001b[0m \u001b[43m        \u001b[49m\u001b[38;5;241;43m*\u001b[39;49m\u001b[38;5;241;43m*\u001b[39;49m\u001b[43m(\u001b[49m\u001b[43m{\u001b[49m\u001b[38;5;124;43m\"\u001b[39;49m\u001b[38;5;124;43mdata\u001b[39;49m\u001b[38;5;124;43m\"\u001b[39;49m\u001b[43m:\u001b[49m\u001b[43m \u001b[49m\u001b[43mdata\u001b[49m\u001b[43m}\u001b[49m\u001b[43m \u001b[49m\u001b[38;5;28;43;01mif\u001b[39;49;00m\u001b[43m \u001b[49m\u001b[43mdata\u001b[49m\u001b[43m \u001b[49m\u001b[38;5;129;43;01mis\u001b[39;49;00m\u001b[43m \u001b[49m\u001b[38;5;129;43;01mnot\u001b[39;49;00m\u001b[43m \u001b[49m\u001b[38;5;28;43;01mNone\u001b[39;49;00m\u001b[43m \u001b[49m\u001b[38;5;28;43;01melse\u001b[39;49;00m\u001b[43m \u001b[49m\u001b[43m{\u001b[49m\u001b[43m}\u001b[49m\u001b[43m)\u001b[49m\u001b[43m,\u001b[49m\n\u001b[0;32m   2963\u001b[0m \u001b[43m        \u001b[49m\u001b[38;5;241;43m*\u001b[39;49m\u001b[38;5;241;43m*\u001b[39;49m\u001b[43mkwargs\u001b[49m\u001b[43m,\u001b[49m\n\u001b[0;32m   2964\u001b[0m \u001b[43m    \u001b[49m\u001b[43m)\u001b[49m\n",
      "File \u001b[1;32m~\\AppData\\Roaming\\Python\\Python313\\site-packages\\matplotlib\\__init__.py:1473\u001b[0m, in \u001b[0;36m_preprocess_data.<locals>.inner\u001b[1;34m(ax, data, *args, **kwargs)\u001b[0m\n\u001b[0;32m   1470\u001b[0m \u001b[38;5;129m@functools\u001b[39m\u001b[38;5;241m.\u001b[39mwraps(func)\n\u001b[0;32m   1471\u001b[0m \u001b[38;5;28;01mdef\u001b[39;00m \u001b[38;5;21minner\u001b[39m(ax, \u001b[38;5;241m*\u001b[39margs, data\u001b[38;5;241m=\u001b[39m\u001b[38;5;28;01mNone\u001b[39;00m, \u001b[38;5;241m*\u001b[39m\u001b[38;5;241m*\u001b[39mkwargs):\n\u001b[0;32m   1472\u001b[0m     \u001b[38;5;28;01mif\u001b[39;00m data \u001b[38;5;129;01mis\u001b[39;00m \u001b[38;5;28;01mNone\u001b[39;00m:\n\u001b[1;32m-> 1473\u001b[0m         \u001b[38;5;28;01mreturn\u001b[39;00m \u001b[43mfunc\u001b[49m\u001b[43m(\u001b[49m\n\u001b[0;32m   1474\u001b[0m \u001b[43m            \u001b[49m\u001b[43max\u001b[49m\u001b[43m,\u001b[49m\n\u001b[0;32m   1475\u001b[0m \u001b[43m            \u001b[49m\u001b[38;5;241;43m*\u001b[39;49m\u001b[38;5;28;43mmap\u001b[39;49m\u001b[43m(\u001b[49m\u001b[43msanitize_sequence\u001b[49m\u001b[43m,\u001b[49m\u001b[43m \u001b[49m\u001b[43margs\u001b[49m\u001b[43m)\u001b[49m\u001b[43m,\u001b[49m\n\u001b[0;32m   1476\u001b[0m \u001b[43m            \u001b[49m\u001b[38;5;241;43m*\u001b[39;49m\u001b[38;5;241;43m*\u001b[39;49m\u001b[43m{\u001b[49m\u001b[43mk\u001b[49m\u001b[43m:\u001b[49m\u001b[43m \u001b[49m\u001b[43msanitize_sequence\u001b[49m\u001b[43m(\u001b[49m\u001b[43mv\u001b[49m\u001b[43m)\u001b[49m\u001b[43m \u001b[49m\u001b[38;5;28;43;01mfor\u001b[39;49;00m\u001b[43m \u001b[49m\u001b[43mk\u001b[49m\u001b[43m,\u001b[49m\u001b[43m \u001b[49m\u001b[43mv\u001b[49m\u001b[43m \u001b[49m\u001b[38;5;129;43;01min\u001b[39;49;00m\u001b[43m \u001b[49m\u001b[43mkwargs\u001b[49m\u001b[38;5;241;43m.\u001b[39;49m\u001b[43mitems\u001b[49m\u001b[43m(\u001b[49m\u001b[43m)\u001b[49m\u001b[43m}\u001b[49m\u001b[43m)\u001b[49m\n\u001b[0;32m   1478\u001b[0m     bound \u001b[38;5;241m=\u001b[39m new_sig\u001b[38;5;241m.\u001b[39mbind(ax, \u001b[38;5;241m*\u001b[39margs, \u001b[38;5;241m*\u001b[39m\u001b[38;5;241m*\u001b[39mkwargs)\n\u001b[0;32m   1479\u001b[0m     auto_label \u001b[38;5;241m=\u001b[39m (bound\u001b[38;5;241m.\u001b[39marguments\u001b[38;5;241m.\u001b[39mget(label_namer)\n\u001b[0;32m   1480\u001b[0m                   \u001b[38;5;129;01mor\u001b[39;00m bound\u001b[38;5;241m.\u001b[39mkwargs\u001b[38;5;241m.\u001b[39mget(label_namer))\n",
      "File \u001b[1;32m~\\AppData\\Roaming\\Python\\Python313\\site-packages\\matplotlib\\axes\\_axes.py:2492\u001b[0m, in \u001b[0;36mAxes.bar\u001b[1;34m(self, x, height, width, bottom, align, **kwargs)\u001b[0m\n\u001b[0;32m   2486\u001b[0m         x \u001b[38;5;241m=\u001b[39m \u001b[38;5;241m0\u001b[39m\n\u001b[0;32m   2488\u001b[0m \u001b[38;5;28;01mif\u001b[39;00m orientation \u001b[38;5;241m==\u001b[39m \u001b[38;5;124m'\u001b[39m\u001b[38;5;124mvertical\u001b[39m\u001b[38;5;124m'\u001b[39m:\n\u001b[0;32m   2489\u001b[0m     \u001b[38;5;66;03m# It is possible for y (bottom) to contain unit information.\u001b[39;00m\n\u001b[0;32m   2490\u001b[0m     \u001b[38;5;66;03m# However, it is also possible for y=0 for the default and height\u001b[39;00m\n\u001b[0;32m   2491\u001b[0m     \u001b[38;5;66;03m# to contain unit information.  This will prioritize the units of y.\u001b[39;00m\n\u001b[1;32m-> 2492\u001b[0m     \u001b[38;5;28;43mself\u001b[39;49m\u001b[38;5;241;43m.\u001b[39;49m\u001b[43m_process_unit_info\u001b[49m\u001b[43m(\u001b[49m\n\u001b[0;32m   2493\u001b[0m \u001b[43m        \u001b[49m\u001b[43m[\u001b[49m\u001b[43m(\u001b[49m\u001b[38;5;124;43m\"\u001b[39;49m\u001b[38;5;124;43mx\u001b[39;49m\u001b[38;5;124;43m\"\u001b[39;49m\u001b[43m,\u001b[49m\u001b[43m \u001b[49m\u001b[43mx\u001b[49m\u001b[43m)\u001b[49m\u001b[43m,\u001b[49m\u001b[43m \u001b[49m\u001b[43m(\u001b[49m\u001b[38;5;124;43m\"\u001b[39;49m\u001b[38;5;124;43my\u001b[39;49m\u001b[38;5;124;43m\"\u001b[39;49m\u001b[43m,\u001b[49m\u001b[43m \u001b[49m\u001b[43my\u001b[49m\u001b[43m)\u001b[49m\u001b[43m,\u001b[49m\u001b[43m \u001b[49m\u001b[43m(\u001b[49m\u001b[38;5;124;43m\"\u001b[39;49m\u001b[38;5;124;43my\u001b[39;49m\u001b[38;5;124;43m\"\u001b[39;49m\u001b[43m,\u001b[49m\u001b[43m \u001b[49m\u001b[43mheight\u001b[49m\u001b[43m)\u001b[49m\u001b[43m]\u001b[49m\u001b[43m,\u001b[49m\u001b[43m \u001b[49m\u001b[43mkwargs\u001b[49m\u001b[43m,\u001b[49m\u001b[43m \u001b[49m\u001b[43mconvert\u001b[49m\u001b[38;5;241;43m=\u001b[39;49m\u001b[38;5;28;43;01mFalse\u001b[39;49;00m\u001b[43m)\u001b[49m\n\u001b[0;32m   2494\u001b[0m     \u001b[38;5;28;01mif\u001b[39;00m log:\n\u001b[0;32m   2495\u001b[0m         \u001b[38;5;28mself\u001b[39m\u001b[38;5;241m.\u001b[39mset_yscale(\u001b[38;5;124m'\u001b[39m\u001b[38;5;124mlog\u001b[39m\u001b[38;5;124m'\u001b[39m, nonpositive\u001b[38;5;241m=\u001b[39m\u001b[38;5;124m'\u001b[39m\u001b[38;5;124mclip\u001b[39m\u001b[38;5;124m'\u001b[39m)\n",
      "File \u001b[1;32m~\\AppData\\Roaming\\Python\\Python313\\site-packages\\matplotlib\\axes\\_base.py:2585\u001b[0m, in \u001b[0;36m_AxesBase._process_unit_info\u001b[1;34m(self, datasets, kwargs, convert)\u001b[0m\n\u001b[0;32m   2583\u001b[0m     \u001b[38;5;66;03m# Update from data if axis is already set but no unit is set yet.\u001b[39;00m\n\u001b[0;32m   2584\u001b[0m     \u001b[38;5;28;01mif\u001b[39;00m axis \u001b[38;5;129;01mis\u001b[39;00m \u001b[38;5;129;01mnot\u001b[39;00m \u001b[38;5;28;01mNone\u001b[39;00m \u001b[38;5;129;01mand\u001b[39;00m data \u001b[38;5;129;01mis\u001b[39;00m \u001b[38;5;129;01mnot\u001b[39;00m \u001b[38;5;28;01mNone\u001b[39;00m \u001b[38;5;129;01mand\u001b[39;00m \u001b[38;5;129;01mnot\u001b[39;00m axis\u001b[38;5;241m.\u001b[39mhave_units():\n\u001b[1;32m-> 2585\u001b[0m         \u001b[43maxis\u001b[49m\u001b[38;5;241;43m.\u001b[39;49m\u001b[43mupdate_units\u001b[49m\u001b[43m(\u001b[49m\u001b[43mdata\u001b[49m\u001b[43m)\u001b[49m\n\u001b[0;32m   2586\u001b[0m \u001b[38;5;28;01mfor\u001b[39;00m axis_name, axis \u001b[38;5;129;01min\u001b[39;00m axis_map\u001b[38;5;241m.\u001b[39mitems():\n\u001b[0;32m   2587\u001b[0m     \u001b[38;5;66;03m# Return if no axis is set.\u001b[39;00m\n\u001b[0;32m   2588\u001b[0m     \u001b[38;5;28;01mif\u001b[39;00m axis \u001b[38;5;129;01mis\u001b[39;00m \u001b[38;5;28;01mNone\u001b[39;00m:\n",
      "File \u001b[1;32m~\\AppData\\Roaming\\Python\\Python313\\site-packages\\matplotlib\\axis.py:1756\u001b[0m, in \u001b[0;36mAxis.update_units\u001b[1;34m(self, data)\u001b[0m\n\u001b[0;32m   1754\u001b[0m neednew \u001b[38;5;241m=\u001b[39m \u001b[38;5;28mself\u001b[39m\u001b[38;5;241m.\u001b[39mconverter \u001b[38;5;241m!=\u001b[39m converter\n\u001b[0;32m   1755\u001b[0m \u001b[38;5;28mself\u001b[39m\u001b[38;5;241m.\u001b[39mconverter \u001b[38;5;241m=\u001b[39m converter\n\u001b[1;32m-> 1756\u001b[0m default \u001b[38;5;241m=\u001b[39m \u001b[38;5;28;43mself\u001b[39;49m\u001b[38;5;241;43m.\u001b[39;49m\u001b[43mconverter\u001b[49m\u001b[38;5;241;43m.\u001b[39;49m\u001b[43mdefault_units\u001b[49m\u001b[43m(\u001b[49m\u001b[43mdata\u001b[49m\u001b[43m,\u001b[49m\u001b[43m \u001b[49m\u001b[38;5;28;43mself\u001b[39;49m\u001b[43m)\u001b[49m\n\u001b[0;32m   1757\u001b[0m \u001b[38;5;28;01mif\u001b[39;00m default \u001b[38;5;129;01mis\u001b[39;00m \u001b[38;5;129;01mnot\u001b[39;00m \u001b[38;5;28;01mNone\u001b[39;00m \u001b[38;5;129;01mand\u001b[39;00m \u001b[38;5;28mself\u001b[39m\u001b[38;5;241m.\u001b[39munits \u001b[38;5;129;01mis\u001b[39;00m \u001b[38;5;28;01mNone\u001b[39;00m:\n\u001b[0;32m   1758\u001b[0m     \u001b[38;5;28mself\u001b[39m\u001b[38;5;241m.\u001b[39mset_units(default)\n",
      "File \u001b[1;32m~\\AppData\\Roaming\\Python\\Python313\\site-packages\\matplotlib\\category.py:105\u001b[0m, in \u001b[0;36mStrCategoryConverter.default_units\u001b[1;34m(data, axis)\u001b[0m\n\u001b[0;32m    103\u001b[0m \u001b[38;5;66;03m# the conversion call stack is default_units -> axis_info -> convert\u001b[39;00m\n\u001b[0;32m    104\u001b[0m \u001b[38;5;28;01mif\u001b[39;00m axis\u001b[38;5;241m.\u001b[39munits \u001b[38;5;129;01mis\u001b[39;00m \u001b[38;5;28;01mNone\u001b[39;00m:\n\u001b[1;32m--> 105\u001b[0m     axis\u001b[38;5;241m.\u001b[39mset_units(\u001b[43mUnitData\u001b[49m\u001b[43m(\u001b[49m\u001b[43mdata\u001b[49m\u001b[43m)\u001b[49m)\n\u001b[0;32m    106\u001b[0m \u001b[38;5;28;01melse\u001b[39;00m:\n\u001b[0;32m    107\u001b[0m     axis\u001b[38;5;241m.\u001b[39munits\u001b[38;5;241m.\u001b[39mupdate(data)\n",
      "File \u001b[1;32m~\\AppData\\Roaming\\Python\\Python313\\site-packages\\matplotlib\\category.py:181\u001b[0m, in \u001b[0;36mUnitData.__init__\u001b[1;34m(self, data)\u001b[0m\n\u001b[0;32m    179\u001b[0m \u001b[38;5;28mself\u001b[39m\u001b[38;5;241m.\u001b[39m_counter \u001b[38;5;241m=\u001b[39m itertools\u001b[38;5;241m.\u001b[39mcount()\n\u001b[0;32m    180\u001b[0m \u001b[38;5;28;01mif\u001b[39;00m data \u001b[38;5;129;01mis\u001b[39;00m \u001b[38;5;129;01mnot\u001b[39;00m \u001b[38;5;28;01mNone\u001b[39;00m:\n\u001b[1;32m--> 181\u001b[0m     \u001b[38;5;28;43mself\u001b[39;49m\u001b[38;5;241;43m.\u001b[39;49m\u001b[43mupdate\u001b[49m\u001b[43m(\u001b[49m\u001b[43mdata\u001b[49m\u001b[43m)\u001b[49m\n",
      "File \u001b[1;32m~\\AppData\\Roaming\\Python\\Python313\\site-packages\\matplotlib\\category.py:214\u001b[0m, in \u001b[0;36mUnitData.update\u001b[1;34m(self, data)\u001b[0m\n\u001b[0;32m    212\u001b[0m \u001b[38;5;66;03m# check if convertible to number:\u001b[39;00m\n\u001b[0;32m    213\u001b[0m convertible \u001b[38;5;241m=\u001b[39m \u001b[38;5;28;01mTrue\u001b[39;00m\n\u001b[1;32m--> 214\u001b[0m \u001b[38;5;28;01mfor\u001b[39;00m val \u001b[38;5;129;01min\u001b[39;00m \u001b[43mOrderedDict\u001b[49m\u001b[38;5;241;43m.\u001b[39;49m\u001b[43mfromkeys\u001b[49m\u001b[43m(\u001b[49m\u001b[43mdata\u001b[49m\u001b[43m)\u001b[49m:\n\u001b[0;32m    215\u001b[0m     \u001b[38;5;66;03m# OrderedDict just iterates over unique values in data.\u001b[39;00m\n\u001b[0;32m    216\u001b[0m     _api\u001b[38;5;241m.\u001b[39mcheck_isinstance((\u001b[38;5;28mstr\u001b[39m, \u001b[38;5;28mbytes\u001b[39m), value\u001b[38;5;241m=\u001b[39mval)\n\u001b[0;32m    217\u001b[0m     \u001b[38;5;28;01mif\u001b[39;00m convertible:\n\u001b[0;32m    218\u001b[0m         \u001b[38;5;66;03m# this will only be called so long as convertible is True.\u001b[39;00m\n",
      "\u001b[1;31mTypeError\u001b[0m: unhashable type: 'numpy.ndarray'"
     ]
    },
    {
     "data": {
      "image/png": "[encoded data removed]",
      "text/plain": [
       "<Figure size 1000x600 with 1 Axes>"
      ]
     },
     "metadata": {},
     "output_type": "display_data"
    }
   ],
   "source": [
    "# Este es mi codigo original, no encontre como solo ver los de ciertas consolas, le pase a chatgpt para que me lo corrija, está mas abajo.\n",
    "# Visualizaciones exploratorias univariadas\n",
    "\n",
    "# Vamos a agrupar por consola, quiero ve\n",
    "grouped = df.groupby(['console']) # agrupor por semana\n",
    "resumen = grouped.agg({'critic_score': 'mean','total_sales': 'mean' ,'na_sales': 'mean', 'jp_sales': 'mean', 'other_sales': 'mean'}).reset_index() #calcular estadísticas\n",
    "x = resumen['console']\n",
    "y1 = resumen['na_sales']\n",
    "y2 = resumen['jp_sales']\n",
    "y3 = resumen['other_sales']\n",
    "target = resumen['total_sales']\n",
    "# Filtrar el resumen para obtener solo los promedios mayores a 0.043336\n",
    "threshold = 0.043336\n",
    "resumen_filtrado = resumen[resumen['total_sales'] > threshold]\n",
    "target = resumen_filtrado['total_sales']\n",
    "# Crear el gráfico de barras\n",
    "plt.figure(figsize=(10, 6))  # Ajustar el tamaño de la figura\n",
    "plt.bar(x, resumen_filtrado)\n",
    "plt.title(\"Gráfico de ventas globales para cada consola\")\n",
    "plt.xlabel(\"Consolas\")\n",
    "plt.ylabel(\"Total de Ventas Globales\")\n",
    "plt.show()\n",
    "\n"
   ]
  },
  {
   "cell_type": "code",
   "execution_count": 44,
   "metadata": {},
   "outputs": [
    {
     "data": {
      "text/plain": [
       "count    81.000000\n",
       "mean      0.049000\n",
       "std       0.101181\n",
       "min       0.000000\n",
       "25%       0.000000\n",
       "50%       0.000000\n",
       "75%       0.043336\n",
       "max       0.495556\n",
       "Name: total_sales, dtype: float64"
      ]
     },
     "execution_count": 44,
     "metadata": {},
     "output_type": "execute_result"
    }
   ],
   "source": [
    "resumen['total_sales'].describe()"
   ]
  },
  {
   "cell_type": "code",
   "execution_count": 52,
   "metadata": {},
   "outputs": [
    {
     "data": {
      "image/png": "[encoded data removed]",
      "text/plain": [
       "<Figure size 1000x600 with 1 Axes>"
      ]
     },
     "metadata": {},
     "output_type": "display_data"
    }
   ],
   "source": [
    "# Quiero ver cuales son las consolas con los 5 mejores promedios de ventas totales.\n",
    "# Supongamos que 'df' es tu DataFrame ya cargado y contiene las columnas necesarias\n",
    "\n",
    "# Agrupar por consola y calcular estadísticas\n",
    "grouped = df.groupby(['console'])\n",
    "resumen = grouped.agg({\n",
    "    'critic_score': 'mean',\n",
    "    'total_sales': 'mean',\n",
    "    'na_sales': 'mean',\n",
    "    'jp_sales': 'mean',\n",
    "    'other_sales': 'mean'\n",
    "}).reset_index()\n",
    "\n",
    "# Filtrar el resumen para obtener solo los promedios mayores a 0.043336\n",
    "threshold = 0.25\n",
    "resumen_filtrado = resumen[resumen['total_sales'] > threshold]\n",
    "\n",
    "# Asignar las columnas a variables\n",
    "x = resumen_filtrado['console']\n",
    "target = resumen_filtrado['total_sales']\n",
    "\n",
    "# Crear el gráfico de barras\n",
    "plt.figure(figsize=(10, 6))  # Ajustar el tamaño de la figura\n",
    "bars = plt.bar(x, target)\n",
    "\n",
    "# Personalizar el gráfico\n",
    "plt.title(f\"Gráfico de Ventas Globales para Consolas (Promedio > {threshold})\")# Este modifique yo.\n",
    "plt.xlabel(\"Consolas\")\n",
    "plt.ylabel(\"Total de Ventas Globales\")\n",
    "plt.xticks(rotation=45)  # Rotar etiquetas del eje x para mejor legibilidad\n",
    "plt.tight_layout()  # Ajustar el diseño para que no se recorten las etiquetas\n",
    "\n",
    "# Etiquetar las barras filtradas. Esto le pedi a chatgpt\n",
    "for bar in bars:\n",
    "    plt.text(bar.get_x() + bar.get_width() / 2, bar.get_height(), \n",
    "             f'{bar.get_height():.2f}', ha='center', va='bottom')  # Añadir texto\n",
    "\n",
    "# Mostrar el gráfico\n",
    "plt.show()\n"
   ]
  },
  {
   "cell_type": "code",
   "execution_count": 59,
   "metadata": {},
   "outputs": [
    {
     "data": {
      "image/png": "[encoded data removed]",
      "text/plain": [
       "<Figure size 1000x600 with 1 Axes>"
      ]
     },
     "metadata": {},
     "output_type": "display_data"
    }
   ],
   "source": [
    "# Quiero ver cuales son las consolas con los 5 mejores promedios de valoracion.\n",
    "# Creo que la puntuacion es de 1 a 5 Y NO DE 1 A 10. No creo que sean tan malas las experiencias y se sigan comprando!\n",
    "# Filtrar el resumen para obtener solo los promedios de critic_score mayores a 8\n",
    "threshold_score = 3\n",
    "resumen_filtrado = resumen[resumen['critic_score'] > threshold_score]\n",
    "\n",
    "# Asignar las columnas a variables\n",
    "x = resumen_filtrado['console']\n",
    "target = resumen_filtrado['critic_score']\n",
    "\n",
    "# Crear el gráfico de barras\n",
    "plt.figure(figsize=(10, 6))  # Ajustar el tamaño de la figura\n",
    "bars = plt.bar(x, target)\n",
    "\n",
    "# Personalizar el gráfico\n",
    "plt.title(f\"Gráfico de Ventas Globales para Consolas (Critic Score > {threshold_score})\")\n",
    "plt.xlabel(\"Consolas\")\n",
    "plt.ylabel(\"Total de Ventas Globales\")\n",
    "plt.xticks(rotation=45)  # Rotar etiquetas del eje x para mejor legibilidad\n",
    "plt.tight_layout()  # Ajustar el diseño para que no se recorten las etiquetas\n",
    "\n",
    "# Etiquetar las barras filtradas\n",
    "for bar in bars:\n",
    "    plt.text(bar.get_x() + bar.get_width() / 2, bar.get_height(), \n",
    "             f'{bar.get_height():.2f}', ha='center', va='bottom')  # Añadir texto\n",
    "\n",
    "# Mostrar el gráfico\n",
    "plt.show()\n"
   ]
  },
  {
   "cell_type": "code",
   "execution_count": 60,
   "metadata": {},
   "outputs": [
    {
     "data": {
      "text/plain": [
       "count    3.000000\n",
       "mean     3.897983\n",
       "std      0.781930\n",
       "min      3.412500\n",
       "25%      3.446974\n",
       "50%      3.481448\n",
       "75%      4.140724\n",
       "max      4.800000\n",
       "Name: critic_score, dtype: float64"
      ]
     },
     "execution_count": 60,
     "metadata": {},
     "output_type": "execute_result"
    }
   ],
   "source": [
    "# Creo que la puntuacion es de 1 a 5 Y NO DE 1 A 10. No creo que sean tan malas las experiencias y se sigan comprando!\n",
    "target.describe()"
   ]
  },
  {
   "cell_type": "code",
   "execution_count": null,
   "metadata": {},
   "outputs": [],
   "source": [
    "# Fin Visualizaciones exploratorias univariadas"
   ]
  },
  {
   "cell_type": "code",
   "execution_count": 79,
   "metadata": {},
   "outputs": [
    {
     "data": {
      "image/png": "[encoded data removed]",
      "text/plain": [
       "<Figure size 1200x600 with 1 Axes>"
      ]
     },
     "metadata": {},
     "output_type": "display_data"
    }
   ],
   "source": [
    "#Visualizaciones exploratorias multivariadas: Crea dos tipos diferentes de visualizaciones multivariadas. Cada visualización debe incluir una breve interpretación dentro del archivo \n",
    "# de código.\n",
    "#Profe, Tome el codigo base de tus clases y le pedi a chatgpt una mano ... ya se me acaba el tiempo!\n",
    "# Quiero ver la EVOLUCION entre las ventas globales y las ventas en norte america segun lanzamiento. Para ver si encontramos alguna correlacion.\n",
    "# reAgrupar por fecha de lanzamiento y consola\n",
    "grouped = df.groupby(['release_date', 'console'])\n",
    "resumen_aux = grouped.agg({\n",
    "    'critic_score': 'mean',\n",
    "    'total_sales': 'mean',\n",
    "    'na_sales': 'mean',\n",
    "    'jp_sales': 'mean',\n",
    "    'other_sales': 'mean'\n",
    "}).reset_index()\n",
    "\n",
    "promedio_minimo_ventas = 4\n",
    "# Filtrar para la consola PS3 y ventas mayores a promedio_minimo_ventas\n",
    "aux = resumen_aux[(resumen_aux['console'] == 'PS3') & (resumen_aux['total_sales'] > promedio_minimo_ventas)]\n",
    "\n",
    "# Asignar las columnas a variables\n",
    "x_aux = aux['release_date']\n",
    "target_total_sales = aux['total_sales']\n",
    "target_na_sales = aux['na_sales']\n",
    "\n",
    "# Verificar si hay datos antes de graficar\n",
    "if not aux.empty:\n",
    "    # Crear el gráfico de líneas para entender las ventas por fecha de lanzamiento\n",
    "    plt.figure(figsize=(12, 6))  # Ajustar el tamaño de la figura\n",
    "\n",
    "    # Graficar total_sales\n",
    "    plt.plot(x_aux, target_total_sales, marker='o', label='Total Sales', color='blue')\n",
    "\n",
    "    # Graficar na_sales\n",
    "    plt.plot(x_aux, target_na_sales, marker='o', label='NA Sales', color='orange')\n",
    "\n",
    "    # Personalizar el gráfico\n",
    "    plt.title(f\"Evolucion de Ventas Totales y NA de PS3 por Fecha de Lanzamiento (Ventas > {promedio_minimo_ventas})\")\n",
    "    plt.xlabel(\"Fecha de Lanzamiento\")\n",
    "    plt.ylabel(\"Total Ventas\")\n",
    "    plt.xticks(rotation=45)  # Rotar las etiquetas del eje x para mejor legibilidad\n",
    "    plt.tight_layout()  # Ajustar el diseño para que no se recorten las etiquetas\n",
    "    plt.grid()  # Añadir una cuadrícula para mejor visualización\n",
    "    plt.legend()  # Mostrar leyenda para identificar las líneas\n",
    "    plt.show()\n",
    "else:\n",
    "    print(\"No hay registros de ventas mayores a {promedio_minimo_ventas} para PS3.\")\n"
   ]
  },
  {
   "cell_type": "code",
   "execution_count": 82,
   "metadata": {},
   "outputs": [
    {
     "data": {
      "image/png": "[encoded data removed]",
      "text/plain": [
       "<Figure size 1200x600 with 1 Axes>"
      ]
     },
     "metadata": {},
     "output_type": "display_data"
    }
   ],
   "source": [
    "import pandas as pd\n",
    "import matplotlib.pyplot as plt\n",
    "\n",
    "# Quiero ver la EVOLUCION entre las ventas globales y las valoraciones segun lanzamiento. Para ver si encontramos alguna otra correlacion.\n",
    "\n",
    "\n",
    "# Filtrar para la consola PS3 y critic_score mayor a 8\n",
    "aux = resumen_aux[(resumen_aux['console'] == 'PS3') & (resumen_aux['critic_score'] > 8)]\n",
    "\n",
    "# Asignar las columnas a variables\n",
    "x_aux = aux['release_date']\n",
    "target_total_sales = aux['total_sales']\n",
    "target_critic_score = aux['critic_score']\n",
    "\n",
    "# Verificar si hay datos antes de graficar\n",
    "if not aux.empty:\n",
    "    # Crear el gráfico de líneas para entender las ventas por fecha de lanzamiento\n",
    "    plt.figure(figsize=(12, 6))  # Ajustar el tamaño de la figura\n",
    "\n",
    "    # Graficar total_sales\n",
    "    plt.plot(x_aux, target_total_sales, marker='o', label='Total Sales', color='blue')\n",
    "\n",
    "    # Graficar critic_score\n",
    "    plt.plot(x_aux, target_critic_score, marker='o', label='Critic Score', color='green')\n",
    "\n",
    "    # Personalizar el gráfico\n",
    "    plt.title(\"Gráfico de Ventas PS3 y Calificación Crítica por Fecha de Lanzamiento (Critic Score > 8)\")\n",
    "    plt.xlabel(\"Fecha de Lanzamiento\")\n",
    "    plt.ylabel(\"Valores\")\n",
    "    plt.xticks(rotation=45)  # Rotar las etiquetas del eje x para mejor legibilidad\n",
    "    plt.tight_layout()  # Ajustar el diseño para que no se recorten las etiquetas\n",
    "    plt.grid()  # Añadir una cuadrícula para mejor visualización\n",
    "    plt.legend()  # Mostrar leyenda para identificar las líneas\n",
    "    plt.show()\n",
    "else:\n",
    "    print(\"No hay registros de PS3 con un Critic Score mayor a 8.\")\n"
   ]
  },
  {
   "cell_type": "code",
   "execution_count": 83,
   "metadata": {},
   "outputs": [
    {
     "data": {
      "text/plain": [
       "count    48.000000\n",
       "mean      8.598472\n",
       "std       0.403845\n",
       "min       8.100000\n",
       "25%       8.300000\n",
       "50%       8.500000\n",
       "75%       8.800000\n",
       "max      10.000000\n",
       "Name: critic_score, dtype: float64"
      ]
     },
     "execution_count": 83,
     "metadata": {},
     "output_type": "execute_result"
    }
   ],
   "source": [
    "#Estadísticas descriptivas\n",
    "target_critic_score.describe()"
   ]
  },
  {
   "cell_type": "code",
   "execution_count": null,
   "metadata": {},
   "outputs": [],
   "source": [
    "# Identificación de tendencias: Analiza y discute cualquier tendencia notable que observes en los datos, apoyándote en las visualizaciones y estadísticas descriptivas.\n",
    "# Análisis de correlación\n",
    "# Predicción de ventas\n",
    "#Es notable como el indice de aceptación del producto va de la mano con las ventas. Existiría un feedback importante de PS3 y sus clientes por eso se puede apreciar una \n",
    "# aparente causalidad.\n",
    "# Si esta causalidad esta demostrada, PERO SERIA BUENO SABER LOS DATOS DESDE EL 2014 como le fue para corroborar la predicción de que al priorizar el feedback se mejora el producto\n",
    "# para los clientes.\n",
    "# Pero de no ser así se esperan bajas ventas."
   ]
  }
 ],
 "metadata": {
  "kernelspec": {
   "display_name": "Python 3",
   "language": "python",
   "name": "python3"
  },
  "language_info": {
   "codemirror_mode": {
    "name": "ipython",
    "version": 3
   },
   "file_extension": ".py",
   "mimetype": "text/x-python",
   "name": "python",
   "nbconvert_exporter": "python",
   "pygments_lexer": "ipython3",
   "version": "3.13.0"
  }
 },
 "nbformat": 4,
 "nbformat_minor": 2
}
